{
 "cells": [
  {
   "cell_type": "code",
   "execution_count": null,
   "metadata": {},
   "outputs": [],
   "source": []
  },
  {
   "cell_type": "code",
   "execution_count": 1,
   "metadata": {},
   "outputs": [
    {
     "data": {
      "text/plain": [
       "[5, 7, 4, 9, 6, 8, 10]"
      ]
     },
     "execution_count": 1,
     "metadata": {},
     "output_type": "execute_result"
    }
   ],
   "source": [
    "import pypeln as pl\n",
    "import asyncio\n",
    "from random import random\n",
    "\n",
    "async def slow_add1(x):\n",
    "    await asyncio.sleep(random()) # <= some slow computation\n",
    "    return x + 1\n",
    "\n",
    "async def slow_gt3(x):\n",
    "    await asyncio.sleep(random()) # <= some slow computation\n",
    "    return x > 3\n",
    "\n",
    "data = range(10) # [0, 1, 2, ..., 9] \n",
    "\n",
    "stage = pl.task.map(slow_add1, data, workers = 3, maxsize = 4)\n",
    "stage = pl.task.filter(slow_gt3, stage, workers = 2)\n",
    "\n",
    "data = list(stage) # e.g. [5, 6, 9, 4, 8, 10, 7]\n",
    "\n",
    "data"
   ]
  },
  {
   "cell_type": "code",
   "execution_count": null,
   "metadata": {},
   "outputs": [],
   "source": []
  }
 ],
 "metadata": {
  "kernelspec": {
   "display_name": "Python 3.7.6 64-bit ('.venv': venv)",
   "language": "python",
   "name": "python37664bitvenvvenvb7142f5f488042a68a20512eb6160730"
  },
  "language_info": {
   "codemirror_mode": {
    "name": "ipython",
    "version": 3
   },
   "file_extension": ".py",
   "mimetype": "text/x-python",
   "name": "python",
   "nbconvert_exporter": "python",
   "pygments_lexer": "ipython3",
   "version": "3.7.6"
  }
 },
 "nbformat": 4,
 "nbformat_minor": 4
}
